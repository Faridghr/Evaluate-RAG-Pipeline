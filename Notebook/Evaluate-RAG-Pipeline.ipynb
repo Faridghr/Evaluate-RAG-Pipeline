{
 "cells": [
  {
   "cell_type": "markdown",
   "metadata": {},
   "source": [
    "## Import Libraries"
   ]
  },
  {
   "cell_type": "code",
   "execution_count": 1,
   "metadata": {},
   "outputs": [
    {
     "name": "stderr",
     "output_type": "stream",
     "text": [
      "c:\\Python311\\Lib\\site-packages\\pinecone\\data\\index.py:1: TqdmWarning: IProgress not found. Please update jupyter and ipywidgets. See https://ipywidgets.readthedocs.io/en/stable/user_install.html\n",
      "  from tqdm.autonotebook import tqdm\n"
     ]
    }
   ],
   "source": [
    "from langchain.document_loaders import TextLoader\n",
    "from langchain.text_splitter import CharacterTextSplitter\n",
    "from langchain.embeddings import HuggingFaceEmbeddings\n",
    "from langchain.vectorstores import Pinecone\n",
    "from langchain.llms import HuggingFaceHub\n",
    "from dotenv import load_dotenv\n",
    "import os\n",
    "from pinecone import Pinecone, ServerlessSpec\n",
    "from langchain import PromptTemplate\n",
    "from langchain.schema.runnable import RunnablePassthrough\n",
    "from langchain.schema.output_parser import StrOutputParser\n",
    "from langchain.chains import ConversationalRetrievalChain, RetrievalQA\n",
    "from langchain_pinecone import PineconeVectorStore\n",
    "from openai import OpenAI\n",
    "from langchain_openai import ChatOpenAI\n",
    "import streamlit as st\n",
    "import json"
   ]
  },
  {
   "cell_type": "markdown",
   "metadata": {},
   "source": [
    "## Load and split documents"
   ]
  },
  {
   "cell_type": "code",
   "execution_count": 2,
   "metadata": {},
   "outputs": [],
   "source": [
    "loader = TextLoader('../Chatbot/materials/torontoTravelAssistant.txt')\n",
    "documents = loader.load()\n",
    "text_splitter = CharacterTextSplitter(chunk_size=1000, chunk_overlap=4)\n",
    "docs = text_splitter.split_documents(documents)"
   ]
  },
  {
   "cell_type": "markdown",
   "metadata": {},
   "source": [
    "## Initialize embeddings"
   ]
  },
  {
   "cell_type": "code",
   "execution_count": 3,
   "metadata": {},
   "outputs": [
    {
     "name": "stderr",
     "output_type": "stream",
     "text": [
      "c:\\Python311\\Lib\\site-packages\\langchain_core\\_api\\deprecation.py:139: LangChainDeprecationWarning: The class `HuggingFaceEmbeddings` was deprecated in LangChain 0.2.2 and will be removed in 0.3.0. An updated version of the class exists in the langchain-huggingface package and should be used instead. To use it run `pip install -U langchain-huggingface` and import as `from langchain_huggingface import HuggingFaceEmbeddings`.\n",
      "  warn_deprecated(\n"
     ]
    },
    {
     "name": "stdout",
     "output_type": "stream",
     "text": [
      "WARNING:tensorflow:From c:\\Python311\\Lib\\site-packages\\keras\\src\\losses.py:2976: The name tf.losses.sparse_softmax_cross_entropy is deprecated. Please use tf.compat.v1.losses.sparse_softmax_cross_entropy instead.\n",
      "\n"
     ]
    }
   ],
   "source": [
    "embeddings = HuggingFaceEmbeddings()"
   ]
  },
  {
   "cell_type": "markdown",
   "metadata": {},
   "source": [
    "## Initialize Pinecone instance"
   ]
  },
  {
   "cell_type": "code",
   "execution_count": 4,
   "metadata": {},
   "outputs": [],
   "source": [
    "pc = Pinecone(api_key= os.getenv('PINECONE_API_KEY'))\n",
    "\n",
    "index_name = \"langchain-demo\"\n",
    "\n",
    "if index_name not in pc.list_indexes().names():\n",
    "    pc.create_index(\n",
    "        name=index_name,\n",
    "        dimension=768,\n",
    "        metric=\"cosine\",\n",
    "        spec=ServerlessSpec(\n",
    "            cloud=\"aws\",\n",
    "            region=\"us-east-1\"\n",
    "        )            \n",
    "    )\n",
    "index = pc.Index(index_name)\n",
    "docsearch = PineconeVectorStore.from_documents(docs, embeddings, index_name=index_name)"
   ]
  },
  {
   "cell_type": "markdown",
   "metadata": {},
   "source": [
    "## Initialize ChatOpenAI"
   ]
  },
  {
   "cell_type": "code",
   "execution_count": 5,
   "metadata": {},
   "outputs": [],
   "source": [
    "model_name = \"gpt-3.5-turbo\"\n",
    "llm = ChatOpenAI(model_name=model_name, organization='org-G8UtpAEtkeLatwCgEhQGaPOw')"
   ]
  },
  {
   "cell_type": "markdown",
   "metadata": {},
   "source": [
    "## Define prompt template"
   ]
  },
  {
   "cell_type": "code",
   "execution_count": 6,
   "metadata": {},
   "outputs": [],
   "source": [
    "template = \"\"\"\n",
    "You are a Toronto travel assistant. Users will ask you questions about their trip to Toronto. Use the following piece of context to answer the question.\n",
    "If you don't know the answer, just say you don't know.\n",
    "Your answer should be short and concise, no longer than 2 sentences.\n",
    "\n",
    "Context: {context}\n",
    "Question: {question}\n",
    "Answer:\n",
    "\"\"\""
   ]
  },
  {
   "cell_type": "markdown",
   "metadata": {},
   "source": [
    "## RAG Pipeline"
   ]
  },
  {
   "cell_type": "code",
   "execution_count": 7,
   "metadata": {},
   "outputs": [],
   "source": [
    "prompt = PromptTemplate(template=template, input_variables=[\"context\", \"question\"])\n",
    "\n",
    "rag_chain = RetrievalQA.from_chain_type(\n",
    "    llm, retriever=docsearch.as_retriever(), chain_type_kwargs={\"prompt\": prompt}\n",
    ")"
   ]
  },
  {
   "cell_type": "markdown",
   "metadata": {},
   "source": [
    "## List of queries for evaluation"
   ]
  },
  {
   "cell_type": "code",
   "execution_count": 8,
   "metadata": {},
   "outputs": [],
   "source": [
    "queries = [\n",
    "    \"What are the best places to visit in Toronto?\",\n",
    "    \"Can you suggest some good restaurants in Toronto?\",\n",
    "    \"What is the best time of year to visit Toronto?\",\n",
    "    \"Are there any special events happening in Toronto this summer?\",\n",
    "    \"Where can I find affordable accommodation in Toronto?\"\n",
    "]"
   ]
  },
  {
   "cell_type": "markdown",
   "metadata": {},
   "source": [
    "## Function to generate context retrieval and answer"
   ]
  },
  {
   "cell_type": "code",
   "execution_count": 9,
   "metadata": {},
   "outputs": [],
   "source": [
    "def generate_evaluation_data(query):\n",
    "    retrieval_results = docsearch.similarity_search(query)\n",
    "    contexts = [result.page_content for result in retrieval_results]\n",
    "    # combined_context = \" \".join(contexts)\n",
    "    result = rag_chain.invoke(query)\n",
    "    return {\n",
    "        \"query\": query,\n",
    "        \"contexts\": contexts,\n",
    "        \"answer\": result[\"result\"]\n",
    "    }"
   ]
  },
  {
   "cell_type": "markdown",
   "metadata": {},
   "source": [
    "## Generate and store evaluation data"
   ]
  },
  {
   "cell_type": "code",
   "execution_count": 10,
   "metadata": {},
   "outputs": [],
   "source": [
    "evaluation_data = [generate_evaluation_data(query) for query in queries]"
   ]
  },
  {
   "cell_type": "code",
   "execution_count": 11,
   "metadata": {},
   "outputs": [
    {
     "name": "stdout",
     "output_type": "stream",
     "text": [
      "Query: What are the best places to visit in Toronto?\n",
      "\n",
      "Context: Document: Comprehensive Toronto Travel Guide\n",
      "Table of Contents\n",
      "1.\tIntroduction\n",
      "2.\tTop Attractions\n",
      "o\tCN Tower\n",
      "o\tRoyal Ontario Museum\n",
      "o\tToronto Islands\n",
      "o\tRipley's Aquarium of Canada\n",
      "o\tDistillery District\n",
      "o\tCasa Loma\n",
      "o\tArt Gallery of Ontario\n",
      "o\tToronto Zoo\n",
      "o\tHigh Park\n",
      "3.\tFood and Dining\n",
      "o\tSt. Lawrence Market\n",
      "o\tKensington Market\n",
      "o\tChinatown\n",
      "o\tLittle Italy\n",
      "o\tYorkville\n",
      "o\tGreektown\n",
      "o\tThe Danforth\n",
      "4.\tAccommodation Options\n",
      "o\tLuxury Hotels\n",
      "o\tMid-Range Hotels\n",
      "o\tBudget Hotels\n",
      "o\tVacation Rentals\n",
      "5.\tSample Itineraries\n",
      "o\t3-Day Itinerary\n",
      "o\t5-Day Itinerary\n",
      "o\t7-Day Itinerary\n",
      "6.\tSeasonal Events and Festivals\n",
      "o\tSummer\n",
      "o\tFall\n",
      "o\tWinter\n",
      "o\tSpring\n",
      "7.\tTransportation\n",
      "o\tPublic Transit\n",
      "o\tTaxis and Ride-Sharing\n",
      "o\tBike Rentals\n",
      "o\tCar Rentals\n",
      "8.\tNeighborhood Guides\n",
      "o\tDowntown\n",
      "o\tWest End\n",
      "o\tEast End\n",
      "o\tMidtown\n",
      "9.\tOutdoor Activities\n",
      "o\tParks and Gardens\n",
      "o\tBeaches\n",
      "o\tHiking Trails\n",
      "10.\tPreferred Times, Days, and Seasons for Activities\n",
      "11.\tFAQs\n",
      "________________________________________\n",
      "1. Introduction\n",
      "Welcome to the comprehensive Toronto Travel Guide. This document will help you explore the best of what Toronto has to offer, including top attractions, dining options, accommodation choices, and more.\n",
      "2. Top Attractions\n",
      "â€¢\tCN Tower: Visit the iconic CN Tower for breathtaking views of the city. Don't miss the EdgeWalk experience for an adrenaline rush.\n",
      "â€¢\tRoyal Ontario Museum: Explore the rich history and diverse cultures at one of the largest museums in North America.\n",
      "â€¢\tToronto Islands: Take a ferry ride to the Toronto Islands for a day of outdoor activities, beaches, and picnicking.\n",
      "â€¢\tRipley's Aquarium of Canada: Discover marine life at this popular family-friendly attraction located near the CN Tower.\n",
      "â€¢\tDistillery District: Stroll through this historic district known for its cobblestone streets, boutiques, galleries, and cafes.\n",
      "â€¢\tCasa Loma: Explore this historic castle, complete with gardens and secret passages.\n",
      "â€¢\tArt Gallery of Ontario: Admire a vast collection of artwork from around the world, including Canadian art.\n",
      "â€¢\tToronto Zoo: Visit the Toronto Zoo, home to over 5,000 animals from around the globe.\n",
      "â€¢\tHigh Park: Enjoy the natural beauty of High Park, featuring walking trails, a zoo, and seasonal cherry blossoms.\n",
      "3. Food and Dining\n",
      "â€¢\tSt. Lawrence Market: Enjoy a variety of local and international foods at this historic market, known for its fresh produce and artisanal products.\n",
      "â€¢\tKensington Market: Experience diverse cuisine in this vibrant neighborhood, offering everything from street food to fine dining.\n",
      "â€¢\tChinatown: Savor authentic Asian dishes, including dim sum, sushi, and pho, in one of Toronto's most bustling areas.\n",
      "â€¢\tLittle Italy: Enjoy Italian cuisine at its finest, with numerous restaurants offering pasta, pizza, and gelato.\n",
      "â€¢\tYorkville: Indulge in upscale dining experiences in this trendy neighborhood known for its high-end restaurants and cafes.\n",
      "â€¢\tGreektown: Experience delicious Greek cuisine, with plenty of restaurants offering souvlaki, moussaka, and baklava.\n",
      "â€¢\tThe Danforth: Explore a variety of dining options along The Danforth, known for its multicultural restaurants.\n",
      "4. Accommodation Options\n",
      "â€¢\tLuxury Hotels: The Ritz-Carlton, Four Seasons Hotel, and Shangri-La Hotel offer top-notch amenities and services.\n",
      "â€¢\tMid-Range Hotels: The Fairmont Royal York, Radisson Blu, and Marriott Downtown provide comfortable stays at reasonable prices.\n",
      "â€¢\tBudget Hotels: HI Toronto Hostel, The Rex Hotel, and The Alexandra Hotel offer affordable accommodation options.\n",
      "â€¢\tVacation Rentals: Consider booking an Airbnb for a more home-like experience, with options ranging from downtown condos to suburban houses.\n",
      "5. Sample Itineraries\n",
      "â€¢\t3-Day Itinerary:\n",
      "o\tDay 1: Visit the CN Tower, Ripley's Aquarium, and have dinner in the Entertainment District.\n",
      "o\tDay 2: Explore the Royal Ontario Museum, shop in Yorkville, and enjoy dinner in Little Italy.\n",
      "o\tDay 3: Take a ferry to Toronto Islands, relax on the beach, and return for an evening in the Distillery District.\n",
      "â€¢\t5-Day Itinerary:\n",
      "o\tDays 1-3: Follow the 3-Day Itinerary.\n",
      "o\tDay 4: Visit St. Lawrence Market, explore the Toronto Zoo, and dine in Chinatown.\n",
      "o\tDay 5: Discover Kensington Market, visit Casa Loma, and end the day with a show at the Royal Alexandra Theatre.\n",
      "â€¢\t7-Day Itinerary:\n",
      "o\tDays 1-5: Follow the 5-Day Itinerary.\n",
      "o\tDay 6: Spend the day at High Park, visit the Art Gallery of Ontario, and dine in Greektown.\n",
      "o\tDay 7: Explore the Distillery District, enjoy a boat tour on Lake Ontario, and finish with dinner in The Danforth.\n",
      "6. Seasonal Events and Festivals\n",
      "â€¢\tSummer: Attend the Toronto International Film Festival (TIFF), the Canadian National Exhibition (CNE), and Caribana.\n",
      "â€¢\tFall: Enjoy Nuit Blanche, the Toronto International Festival of Authors, and the Toronto Christmas Market.\n",
      "â€¢\tWinter: Experience Winterlicious, the Cavalcade of Lights, and the Toronto Light Festival.\n",
      "â€¢\tSpring: Visit the Cherry Blossom Festival in High Park, Doors Open Toronto, and the Toronto Comic Arts Festival.\n",
      "7. Transportation\n",
      "â€¢\tPublic Transit: Toronto has an extensive public transit system, including subways, buses, and streetcars. The TTC is the main provider.\n",
      "â€¢\tTaxis and Ride-Sharing: Taxis and ride-sharing services like Uber and Lyft are widely available.\n",
      "â€¢\tBike Rentals: Bike Share Toronto offers convenient bike rentals throughout the city.\n",
      "â€¢\tCar Rentals: Various car rental services are available, including Enterprise, Hertz, and Budget.\n",
      "8. Neighborhood Guides\n",
      "â€¢\tDowntown: Explore the bustling core of Toronto with attractions like the CN Tower, Ripley's Aquarium, and the Entertainment District.\n",
      "â€¢\tWest End: Discover neighborhoods like Parkdale, Roncesvalles, and Bloor West Village, known for their unique shops and eateries.\n",
      "â€¢\tEast End: Visit Leslieville, The Beaches, and Riverdale, offering a mix of trendy cafes, parks, and waterfront views.\n",
      "â€¢\tMidtown: Experience areas like Yonge and Eglinton, Mount Pleasant, and Forest Hill, known for their shopping and dining options.\n",
      "9. Outdoor Activities\n",
      "â€¢\tParks and Gardens: Enjoy Toronto's green spaces, including Allan Gardens, Edwards Gardens, and Trinity Bellwoods Park.\n",
      "â€¢\tBeaches: Relax at Woodbine Beach, Hanlan's Point Beach, and Sugar Beach.\n",
      "â€¢\tHiking Trails: Explore hiking trails like the Don Valley Trail, the Scarborough Bluffs, and the Humber River Trail.\n",
      "10. Preferred Times, Days, and Seasons for Activities\n",
      "â€¢\tCN Tower:\n",
      "o\tTime: Morning (9 AM - 11 AM) or evening (6 PM - 8 PM)\n",
      "o\tDay: Weekdays (Monday to Friday)\n",
      "o\tSeason: Spring, Summer, Fall\n",
      "â€¢\tRoyal Ontario Museum:\n",
      "o\tTime: Mornings (10 AM - 12 PM)\n",
      "o\tDay: Weekdays (Monday to Friday)\n",
      "o\tSeason: Year-round\n",
      "â€¢\tToronto Islands:\n",
      "o\tTime: Early afternoon (12 PM - 3 PM)\n",
      "o\tDay: Weekends (Saturday and Sunday)\n",
      "o\tSeason: Summer, Spring\n",
      "â€¢\tRipley's Aquarium of Canada:\n",
      "o\tTime: Weekday afternoons (1 PM - 3 PM)\n",
      "o\tDay: Weekdays (Monday to Friday)\n",
      "o\tSeason: Year-round\n",
      "â€¢\tDistillery District:\n",
      "o\tTime: Late morning (10 AM - 12 PM) or late afternoon (4 PM - 6 PM)\n",
      "o\tDay: Weekends (Saturday and Sunday)\n",
      "o\tSeason: Fall, Spring, Summer\n",
      "â€¢\tCasa Loma:\n",
      "o\tTime: Morning (9 AM - 11 AM) or late afternoon (3 PM - 5 PM)\n",
      "o\tDay: Weekdays (Monday to Friday)\n",
      "o\tSeason: Spring, Summer, Fall\n",
      "â€¢\tArt Gallery of Ontario:\n",
      "o\tTime: Early afternoon (1 PM - 3 PM)\n",
      "o\tDay: Weekdays (Monday to Friday)\n",
      "o\tSeason: Year-round\n",
      "â€¢\tToronto Zoo:\n",
      "o\tTime: Mornings (9 AM - 11 AM)\n",
      "o\tDay: Weekends (Saturday and Sunday)\n",
      "o\tSeason: Summer, Spring, Fall\n",
      "â€¢\tHigh Park:\n",
      "o\tTime: Morning (8 AM - 10 AM)\n",
      "o\tDay: Weekends (Saturday and Sunday)\n",
      "o\tSeason: Spring, Summer\n",
      "11. FAQs\n",
      "â€¢\tWhen is the best time to visit Toronto?: The best time to visit is during late spring (May-June) and early fall (September-October) when the weather is pleasant and festivals are in full swing.\n",
      "â€¢\tHow to get around Toronto?: Toronto has an extensive public transit system, including subways, buses, and streetcars. Taxis and ride-sharing services are also available.\n",
      "â€¢\tWhat are some free attractions in Toronto?: Enjoy free attractions such as the Art Gallery of Ontario on Wednesday evenings, the Harbourfront Centre, and High Park.\n",
      "â€¢\tWhat should I pack for a trip to Toronto?: Pack comfortable walking shoes, weather-appropriate clothing, a reusable water bottle, and a camera.\n",
      "\n",
      "Answer: Some of the best places to visit in Toronto include the CN Tower, Royal Ontario Museum, Toronto Islands, Ripley's Aquarium of Canada, and the Distillery District.\n"
     ]
    }
   ],
   "source": [
    "print(\"Query: \" + evaluation_data[0]['query'] + \"\\n\")\n",
    "print(\"Context: \" + evaluation_data[0]['contexts'][0] + \"\\n\")\n",
    "print(\"Answer: \" + evaluation_data[0]['answer'])\n"
   ]
  },
  {
   "cell_type": "markdown",
   "metadata": {},
   "source": [
    "## Save evaluation data to a JSON file for human evaluation"
   ]
  },
  {
   "cell_type": "code",
   "execution_count": 12,
   "metadata": {},
   "outputs": [
    {
     "name": "stdout",
     "output_type": "stream",
     "text": [
      "Evaluation data has been generated and saved to evaluation_data.json\n"
     ]
    }
   ],
   "source": [
    "with open('evaluation_data.json', 'w') as f:\n",
    "    json.dump(evaluation_data, f, indent=4)\n",
    "\n",
    "print(\"Evaluation data has been generated and saved to evaluation_data.json\")"
   ]
  },
  {
   "cell_type": "markdown",
   "metadata": {},
   "source": [
    "## Evaluation function for context relevance"
   ]
  },
  {
   "cell_type": "code",
   "execution_count": 14,
   "metadata": {},
   "outputs": [],
   "source": [
    "from sklearn.feature_extraction.text import TfidfVectorizer\n",
    "from sklearn.metrics.pairwise import cosine_similarity\n",
    "\n",
    "def evaluate_context_relevance(questions, retrieved_contexts):\n",
    "    vectorizer = TfidfVectorizer().fit_transform(retrieved_contexts + questions)\n",
    "    vectors = vectorizer.toarray()\n",
    "    relevance_scores = []\n",
    "    \n",
    "    for i, question in enumerate(questions):\n",
    "        context_vector = vectors[i]\n",
    "        question_vector = vectors[len(questions) + i]\n",
    "        cosine_sim = cosine_similarity([context_vector], [question_vector])[0][0]\n",
    "        relevance_scores.append(cosine_sim)\n",
    "    \n",
    "    return relevance_scores"
   ]
  },
  {
   "cell_type": "markdown",
   "metadata": {},
   "source": [
    "## Evaluation function for answer relevance"
   ]
  },
  {
   "cell_type": "code",
   "execution_count": 15,
   "metadata": {},
   "outputs": [],
   "source": [
    "from rouge_score import rouge_scorer\n",
    "\n",
    "def evaluate_answer_relevance(generated_answers, reference_answers):\n",
    "    scorer = rouge_scorer.RougeScorer(['rouge1', 'rougeL'], use_stemmer=True)\n",
    "    rouge_scores = {'rouge1': [], 'rougeL': []}\n",
    "    \n",
    "    for generated, reference in zip(generated_answers, reference_answers):\n",
    "        scores = scorer.score(reference, generated)\n",
    "        rouge_scores['rouge1'].append(scores['rouge1'].fmeasure)\n",
    "        rouge_scores['rougeL'].append(scores['rougeL'].fmeasure)\n",
    "    \n",
    "    return rouge_scores"
   ]
  },
  {
   "cell_type": "markdown",
   "metadata": {},
   "source": [
    "## Example reference answers"
   ]
  },
  {
   "cell_type": "code",
   "execution_count": 16,
   "metadata": {},
   "outputs": [],
   "source": [
    "reference_answers = [\n",
    "    \"The best places to visit in Toronto include the CN Tower, Royal Ontario Museum, and the Distillery District. You can also explore Toronto Islands and the Art Gallery of Ontario for a mix of nature and culture.\",\n",
    "    \"Some highly recommended restaurants in Toronto are Alo for fine dining, Pai Northern Thai Kitchen for Thai cuisine, and Richmond Station for a great farm-to-table experience. St. Lawrence Market is also a great spot for diverse food options.\",\n",
    "    \"The best time to visit Toronto is from late April to early June and from September to early November when the weather is pleasant, and the city hosts various festivals. These periods also offer fewer crowds compared to the peak summer season.\",\n",
    "    \"Yes, Toronto hosts several special events in the summer, including the Toronto International Film Festival (TIFF) in September and the Toronto Caribbean Carnival in August. The city also features numerous music festivals and outdoor activities.\",\n",
    "    \"Affordable accommodation in Toronto can be found in areas like Kensington Market, the Annex, and Queen Street West. Options include budget hotels, hostels, and Airbnb rentals that offer a range of prices and amenities.\"\n",
    "]"
   ]
  },
  {
   "cell_type": "markdown",
   "metadata": {},
   "source": [
    "## Retrieve context and generate answers"
   ]
  },
  {
   "cell_type": "code",
   "execution_count": 31,
   "metadata": {},
   "outputs": [],
   "source": [
    "retrieved_contexts = []\n",
    "\n",
    "for data in evaluation_data:\n",
    "    retrieved_contexts.append(data['contexts'][0])\n",
    "\n",
    "generated_answers = []\n",
    "\n",
    "for data in evaluation_data:\n",
    "    generated_answers.append(data['answer'])"
   ]
  },
  {
   "cell_type": "markdown",
   "metadata": {},
   "source": [
    "## Evaluate context relevance"
   ]
  },
  {
   "cell_type": "code",
   "execution_count": 33,
   "metadata": {},
   "outputs": [
    {
     "data": {
      "text/plain": [
       "[0.2722216541941082,\n",
       " 0.06539651144388514,\n",
       " 0.36628252812040546,\n",
       " 0.08463996755913449,\n",
       " 0.06560117653352551]"
      ]
     },
     "execution_count": 33,
     "metadata": {},
     "output_type": "execute_result"
    }
   ],
   "source": [
    "context_relevance_scores = evaluate_context_relevance(queries, retrieved_contexts)\n",
    "\n",
    "context_relevance_scores"
   ]
  },
  {
   "cell_type": "markdown",
   "metadata": {},
   "source": [
    "## Evaluate answer relevance"
   ]
  },
  {
   "cell_type": "code",
   "execution_count": 34,
   "metadata": {},
   "outputs": [
    {
     "data": {
      "text/plain": [
       "{'rouge1': [0.6875,\n",
       "  0.2711864406779661,\n",
       "  0.5428571428571429,\n",
       "  0.456140350877193,\n",
       "  0.39999999999999997],\n",
       " 'rougeL': [0.5625,\n",
       "  0.23728813559322032,\n",
       "  0.5142857142857143,\n",
       "  0.3508771929824561,\n",
       "  0.29090909090909084]}"
      ]
     },
     "execution_count": 34,
     "metadata": {},
     "output_type": "execute_result"
    }
   ],
   "source": [
    "answer_relevance_scores = evaluate_answer_relevance(generated_answers, reference_answers)\n",
    "\n",
    "answer_relevance_scores"
   ]
  },
  {
   "cell_type": "markdown",
   "metadata": {},
   "source": [
    "## Display results"
   ]
  },
  {
   "cell_type": "code",
   "execution_count": 37,
   "metadata": {},
   "outputs": [
    {
     "name": "stdout",
     "output_type": "stream",
     "text": [
      "{\n",
      "    \"questions\": [\n",
      "        \"What are the best places to visit in Toronto?\",\n",
      "        \"Can you suggest some good restaurants in Toronto?\",\n",
      "        \"What is the best time of year to visit Toronto?\",\n",
      "        \"Are there any special events happening in Toronto this summer?\",\n",
      "        \"Where can I find affordable accommodation in Toronto?\"\n",
      "    ],\n",
      "    \"retrieved_contexts\": [\n",
      "        \"Document: Comprehensive Toronto Travel Guide\\nTable of Contents\\n1.\\tIntroduction\\n2.\\tTop Attractions\\no\\tCN Tower\\no\\tRoyal Ontario Museum\\no\\tToronto Islands\\no\\tRipley's Aquarium of Canada\\no\\tDistillery District\\no\\tCasa Loma\\no\\tArt Gallery of Ontario\\no\\tToronto Zoo\\no\\tHigh Park\\n3.\\tFood and Dining\\no\\tSt. Lawrence Market\\no\\tKensington Market\\no\\tChinatown\\no\\tLittle Italy\\no\\tYorkville\\no\\tGreektown\\no\\tThe Danforth\\n4.\\tAccommodation Options\\no\\tLuxury Hotels\\no\\tMid-Range Hotels\\no\\tBudget Hotels\\no\\tVacation Rentals\\n5.\\tSample Itineraries\\no\\t3-Day Itinerary\\no\\t5-Day Itinerary\\no\\t7-Day Itinerary\\n6.\\tSeasonal Events and Festivals\\no\\tSummer\\no\\tFall\\no\\tWinter\\no\\tSpring\\n7.\\tTransportation\\no\\tPublic Transit\\no\\tTaxis and Ride-Sharing\\no\\tBike Rentals\\no\\tCar Rentals\\n8.\\tNeighborhood Guides\\no\\tDowntown\\no\\tWest End\\no\\tEast End\\no\\tMidtown\\n9.\\tOutdoor Activities\\no\\tParks and Gardens\\no\\tBeaches\\no\\tHiking Trails\\n10.\\tPreferred Times, Days, and Seasons for Activities\\n11.\\tFAQs\\n________________________________________\\n1. Introduction\\nWelcome to the comprehensive Toronto Travel Guide. This document will help you explore the best of what Toronto has to offer, including top attractions, dining options, accommodation choices, and more.\\n2. Top Attractions\\n\\u00e2\\u20ac\\u00a2\\tCN Tower: Visit the iconic CN Tower for breathtaking views of the city. Don't miss the EdgeWalk experience for an adrenaline rush.\\n\\u00e2\\u20ac\\u00a2\\tRoyal Ontario Museum: Explore the rich history and diverse cultures at one of the largest museums in North America.\\n\\u00e2\\u20ac\\u00a2\\tToronto Islands: Take a ferry ride to the Toronto Islands for a day of outdoor activities, beaches, and picnicking.\\n\\u00e2\\u20ac\\u00a2\\tRipley's Aquarium of Canada: Discover marine life at this popular family-friendly attraction located near the CN Tower.\\n\\u00e2\\u20ac\\u00a2\\tDistillery District: Stroll through this historic district known for its cobblestone streets, boutiques, galleries, and cafes.\\n\\u00e2\\u20ac\\u00a2\\tCasa Loma: Explore this historic castle, complete with gardens and secret passages.\\n\\u00e2\\u20ac\\u00a2\\tArt Gallery of Ontario: Admire a vast collection of artwork from around the world, including Canadian art.\\n\\u00e2\\u20ac\\u00a2\\tToronto Zoo: Visit the Toronto Zoo, home to over 5,000 animals from around the globe.\\n\\u00e2\\u20ac\\u00a2\\tHigh Park: Enjoy the natural beauty of High Park, featuring walking trails, a zoo, and seasonal cherry blossoms.\\n3. Food and Dining\\n\\u00e2\\u20ac\\u00a2\\tSt. Lawrence Market: Enjoy a variety of local and international foods at this historic market, known for its fresh produce and artisanal products.\\n\\u00e2\\u20ac\\u00a2\\tKensington Market: Experience diverse cuisine in this vibrant neighborhood, offering everything from street food to fine dining.\\n\\u00e2\\u20ac\\u00a2\\tChinatown: Savor authentic Asian dishes, including dim sum, sushi, and pho, in one of Toronto's most bustling areas.\\n\\u00e2\\u20ac\\u00a2\\tLittle Italy: Enjoy Italian cuisine at its finest, with numerous restaurants offering pasta, pizza, and gelato.\\n\\u00e2\\u20ac\\u00a2\\tYorkville: Indulge in upscale dining experiences in this trendy neighborhood known for its high-end restaurants and cafes.\\n\\u00e2\\u20ac\\u00a2\\tGreektown: Experience delicious Greek cuisine, with plenty of restaurants offering souvlaki, moussaka, and baklava.\\n\\u00e2\\u20ac\\u00a2\\tThe Danforth: Explore a variety of dining options along The Danforth, known for its multicultural restaurants.\\n4. Accommodation Options\\n\\u00e2\\u20ac\\u00a2\\tLuxury Hotels: The Ritz-Carlton, Four Seasons Hotel, and Shangri-La Hotel offer top-notch amenities and services.\\n\\u00e2\\u20ac\\u00a2\\tMid-Range Hotels: The Fairmont Royal York, Radisson Blu, and Marriott Downtown provide comfortable stays at reasonable prices.\\n\\u00e2\\u20ac\\u00a2\\tBudget Hotels: HI Toronto Hostel, The Rex Hotel, and The Alexandra Hotel offer affordable accommodation options.\\n\\u00e2\\u20ac\\u00a2\\tVacation Rentals: Consider booking an Airbnb for a more home-like experience, with options ranging from downtown condos to suburban houses.\\n5. Sample Itineraries\\n\\u00e2\\u20ac\\u00a2\\t3-Day Itinerary:\\no\\tDay 1: Visit the CN Tower, Ripley's Aquarium, and have dinner in the Entertainment District.\\no\\tDay 2: Explore the Royal Ontario Museum, shop in Yorkville, and enjoy dinner in Little Italy.\\no\\tDay 3: Take a ferry to Toronto Islands, relax on the beach, and return for an evening in the Distillery District.\\n\\u00e2\\u20ac\\u00a2\\t5-Day Itinerary:\\no\\tDays 1-3: Follow the 3-Day Itinerary.\\no\\tDay 4: Visit St. Lawrence Market, explore the Toronto Zoo, and dine in Chinatown.\\no\\tDay 5: Discover Kensington Market, visit Casa Loma, and end the day with a show at the Royal Alexandra Theatre.\\n\\u00e2\\u20ac\\u00a2\\t7-Day Itinerary:\\no\\tDays 1-5: Follow the 5-Day Itinerary.\\no\\tDay 6: Spend the day at High Park, visit the Art Gallery of Ontario, and dine in Greektown.\\no\\tDay 7: Explore the Distillery District, enjoy a boat tour on Lake Ontario, and finish with dinner in The Danforth.\\n6. Seasonal Events and Festivals\\n\\u00e2\\u20ac\\u00a2\\tSummer: Attend the Toronto International Film Festival (TIFF), the Canadian National Exhibition (CNE), and Caribana.\\n\\u00e2\\u20ac\\u00a2\\tFall: Enjoy Nuit Blanche, the Toronto International Festival of Authors, and the Toronto Christmas Market.\\n\\u00e2\\u20ac\\u00a2\\tWinter: Experience Winterlicious, the Cavalcade of Lights, and the Toronto Light Festival.\\n\\u00e2\\u20ac\\u00a2\\tSpring: Visit the Cherry Blossom Festival in High Park, Doors Open Toronto, and the Toronto Comic Arts Festival.\\n7. Transportation\\n\\u00e2\\u20ac\\u00a2\\tPublic Transit: Toronto has an extensive public transit system, including subways, buses, and streetcars. The TTC is the main provider.\\n\\u00e2\\u20ac\\u00a2\\tTaxis and Ride-Sharing: Taxis and ride-sharing services like Uber and Lyft are widely available.\\n\\u00e2\\u20ac\\u00a2\\tBike Rentals: Bike Share Toronto offers convenient bike rentals throughout the city.\\n\\u00e2\\u20ac\\u00a2\\tCar Rentals: Various car rental services are available, including Enterprise, Hertz, and Budget.\\n8. Neighborhood Guides\\n\\u00e2\\u20ac\\u00a2\\tDowntown: Explore the bustling core of Toronto with attractions like the CN Tower, Ripley's Aquarium, and the Entertainment District.\\n\\u00e2\\u20ac\\u00a2\\tWest End: Discover neighborhoods like Parkdale, Roncesvalles, and Bloor West Village, known for their unique shops and eateries.\\n\\u00e2\\u20ac\\u00a2\\tEast End: Visit Leslieville, The Beaches, and Riverdale, offering a mix of trendy cafes, parks, and waterfront views.\\n\\u00e2\\u20ac\\u00a2\\tMidtown: Experience areas like Yonge and Eglinton, Mount Pleasant, and Forest Hill, known for their shopping and dining options.\\n9. Outdoor Activities\\n\\u00e2\\u20ac\\u00a2\\tParks and Gardens: Enjoy Toronto's green spaces, including Allan Gardens, Edwards Gardens, and Trinity Bellwoods Park.\\n\\u00e2\\u20ac\\u00a2\\tBeaches: Relax at Woodbine Beach, Hanlan's Point Beach, and Sugar Beach.\\n\\u00e2\\u20ac\\u00a2\\tHiking Trails: Explore hiking trails like the Don Valley Trail, the Scarborough Bluffs, and the Humber River Trail.\\n10. Preferred Times, Days, and Seasons for Activities\\n\\u00e2\\u20ac\\u00a2\\tCN Tower:\\no\\tTime: Morning (9 AM - 11 AM) or evening (6 PM - 8 PM)\\no\\tDay: Weekdays (Monday to Friday)\\no\\tSeason: Spring, Summer, Fall\\n\\u00e2\\u20ac\\u00a2\\tRoyal Ontario Museum:\\no\\tTime: Mornings (10 AM - 12 PM)\\no\\tDay: Weekdays (Monday to Friday)\\no\\tSeason: Year-round\\n\\u00e2\\u20ac\\u00a2\\tToronto Islands:\\no\\tTime: Early afternoon (12 PM - 3 PM)\\no\\tDay: Weekends (Saturday and Sunday)\\no\\tSeason: Summer, Spring\\n\\u00e2\\u20ac\\u00a2\\tRipley's Aquarium of Canada:\\no\\tTime: Weekday afternoons (1 PM - 3 PM)\\no\\tDay: Weekdays (Monday to Friday)\\no\\tSeason: Year-round\\n\\u00e2\\u20ac\\u00a2\\tDistillery District:\\no\\tTime: Late morning (10 AM - 12 PM) or late afternoon (4 PM - 6 PM)\\no\\tDay: Weekends (Saturday and Sunday)\\no\\tSeason: Fall, Spring, Summer\\n\\u00e2\\u20ac\\u00a2\\tCasa Loma:\\no\\tTime: Morning (9 AM - 11 AM) or late afternoon (3 PM - 5 PM)\\no\\tDay: Weekdays (Monday to Friday)\\no\\tSeason: Spring, Summer, Fall\\n\\u00e2\\u20ac\\u00a2\\tArt Gallery of Ontario:\\no\\tTime: Early afternoon (1 PM - 3 PM)\\no\\tDay: Weekdays (Monday to Friday)\\no\\tSeason: Year-round\\n\\u00e2\\u20ac\\u00a2\\tToronto Zoo:\\no\\tTime: Mornings (9 AM - 11 AM)\\no\\tDay: Weekends (Saturday and Sunday)\\no\\tSeason: Summer, Spring, Fall\\n\\u00e2\\u20ac\\u00a2\\tHigh Park:\\no\\tTime: Morning (8 AM - 10 AM)\\no\\tDay: Weekends (Saturday and Sunday)\\no\\tSeason: Spring, Summer\\n11. FAQs\\n\\u00e2\\u20ac\\u00a2\\tWhen is the best time to visit Toronto?: The best time to visit is during late spring (May-June) and early fall (September-October) when the weather is pleasant and festivals are in full swing.\\n\\u00e2\\u20ac\\u00a2\\tHow to get around Toronto?: Toronto has an extensive public transit system, including subways, buses, and streetcars. Taxis and ride-sharing services are also available.\\n\\u00e2\\u20ac\\u00a2\\tWhat are some free attractions in Toronto?: Enjoy free attractions such as the Art Gallery of Ontario on Wednesday evenings, the Harbourfront Centre, and High Park.\\n\\u00e2\\u20ac\\u00a2\\tWhat should I pack for a trip to Toronto?: Pack comfortable walking shoes, weather-appropriate clothing, a reusable water bottle, and a camera.\",\n",
      "        \"Document: Comprehensive Toronto Travel Guide\\nTable of Contents\\n1.\\tIntroduction\\n2.\\tTop Attractions\\no\\tCN Tower\\no\\tRoyal Ontario Museum\\no\\tToronto Islands\\no\\tRipley's Aquarium of Canada\\no\\tDistillery District\\no\\tCasa Loma\\no\\tArt Gallery of Ontario\\no\\tToronto Zoo\\no\\tHigh Park\\n3.\\tFood and Dining\\no\\tSt. Lawrence Market\\no\\tKensington Market\\no\\tChinatown\\no\\tLittle Italy\\no\\tYorkville\\no\\tGreektown\\no\\tThe Danforth\\n4.\\tAccommodation Options\\no\\tLuxury Hotels\\no\\tMid-Range Hotels\\no\\tBudget Hotels\\no\\tVacation Rentals\\n5.\\tSample Itineraries\\no\\t3-Day Itinerary\\no\\t5-Day Itinerary\\no\\t7-Day Itinerary\\n6.\\tSeasonal Events and Festivals\\no\\tSummer\\no\\tFall\\no\\tWinter\\no\\tSpring\\n7.\\tTransportation\\no\\tPublic Transit\\no\\tTaxis and Ride-Sharing\\no\\tBike Rentals\\no\\tCar Rentals\\n8.\\tNeighborhood Guides\\no\\tDowntown\\no\\tWest End\\no\\tEast End\\no\\tMidtown\\n9.\\tOutdoor Activities\\no\\tParks and Gardens\\no\\tBeaches\\no\\tHiking Trails\\n10.\\tPreferred Times, Days, and Seasons for Activities\\n11.\\tFAQs\\n________________________________________\\n1. Introduction\\nWelcome to the comprehensive Toronto Travel Guide. This document will help you explore the best of what Toronto has to offer, including top attractions, dining options, accommodation choices, and more.\\n2. Top Attractions\\n\\u00e2\\u20ac\\u00a2\\tCN Tower: Visit the iconic CN Tower for breathtaking views of the city. Don't miss the EdgeWalk experience for an adrenaline rush.\\n\\u00e2\\u20ac\\u00a2\\tRoyal Ontario Museum: Explore the rich history and diverse cultures at one of the largest museums in North America.\\n\\u00e2\\u20ac\\u00a2\\tToronto Islands: Take a ferry ride to the Toronto Islands for a day of outdoor activities, beaches, and picnicking.\\n\\u00e2\\u20ac\\u00a2\\tRipley's Aquarium of Canada: Discover marine life at this popular family-friendly attraction located near the CN Tower.\\n\\u00e2\\u20ac\\u00a2\\tDistillery District: Stroll through this historic district known for its cobblestone streets, boutiques, galleries, and cafes.\\n\\u00e2\\u20ac\\u00a2\\tCasa Loma: Explore this historic castle, complete with gardens and secret passages.\\n\\u00e2\\u20ac\\u00a2\\tArt Gallery of Ontario: Admire a vast collection of artwork from around the world, including Canadian art.\\n\\u00e2\\u20ac\\u00a2\\tToronto Zoo: Visit the Toronto Zoo, home to over 5,000 animals from around the globe.\\n\\u00e2\\u20ac\\u00a2\\tHigh Park: Enjoy the natural beauty of High Park, featuring walking trails, a zoo, and seasonal cherry blossoms.\\n3. Food and Dining\\n\\u00e2\\u20ac\\u00a2\\tSt. Lawrence Market: Enjoy a variety of local and international foods at this historic market, known for its fresh produce and artisanal products.\\n\\u00e2\\u20ac\\u00a2\\tKensington Market: Experience diverse cuisine in this vibrant neighborhood, offering everything from street food to fine dining.\\n\\u00e2\\u20ac\\u00a2\\tChinatown: Savor authentic Asian dishes, including dim sum, sushi, and pho, in one of Toronto's most bustling areas.\\n\\u00e2\\u20ac\\u00a2\\tLittle Italy: Enjoy Italian cuisine at its finest, with numerous restaurants offering pasta, pizza, and gelato.\\n\\u00e2\\u20ac\\u00a2\\tYorkville: Indulge in upscale dining experiences in this trendy neighborhood known for its high-end restaurants and cafes.\\n\\u00e2\\u20ac\\u00a2\\tGreektown: Experience delicious Greek cuisine, with plenty of restaurants offering souvlaki, moussaka, and baklava.\\n\\u00e2\\u20ac\\u00a2\\tThe Danforth: Explore a variety of dining options along The Danforth, known for its multicultural restaurants.\\n4. Accommodation Options\\n\\u00e2\\u20ac\\u00a2\\tLuxury Hotels: The Ritz-Carlton, Four Seasons Hotel, and Shangri-La Hotel offer top-notch amenities and services.\\n\\u00e2\\u20ac\\u00a2\\tMid-Range Hotels: The Fairmont Royal York, Radisson Blu, and Marriott Downtown provide comfortable stays at reasonable prices.\\n\\u00e2\\u20ac\\u00a2\\tBudget Hotels: HI Toronto Hostel, The Rex Hotel, and The Alexandra Hotel offer affordable accommodation options.\\n\\u00e2\\u20ac\\u00a2\\tVacation Rentals: Consider booking an Airbnb for a more home-like experience, with options ranging from downtown condos to suburban houses.\\n5. Sample Itineraries\\n\\u00e2\\u20ac\\u00a2\\t3-Day Itinerary:\\no\\tDay 1: Visit the CN Tower, Ripley's Aquarium, and have dinner in the Entertainment District.\\no\\tDay 2: Explore the Royal Ontario Museum, shop in Yorkville, and enjoy dinner in Little Italy.\\no\\tDay 3: Take a ferry to Toronto Islands, relax on the beach, and return for an evening in the Distillery District.\\n\\u00e2\\u20ac\\u00a2\\t5-Day Itinerary:\\no\\tDays 1-3: Follow the 3-Day Itinerary.\\no\\tDay 4: Visit St. Lawrence Market, explore the Toronto Zoo, and dine in Chinatown.\\no\\tDay 5: Discover Kensington Market, visit Casa Loma, and end the day with a show at the Royal Alexandra Theatre.\\n\\u00e2\\u20ac\\u00a2\\t7-Day Itinerary:\\no\\tDays 1-5: Follow the 5-Day Itinerary.\\no\\tDay 6: Spend the day at High Park, visit the Art Gallery of Ontario, and dine in Greektown.\\no\\tDay 7: Explore the Distillery District, enjoy a boat tour on Lake Ontario, and finish with dinner in The Danforth.\\n6. Seasonal Events and Festivals\\n\\u00e2\\u20ac\\u00a2\\tSummer: Attend the Toronto International Film Festival (TIFF), the Canadian National Exhibition (CNE), and Caribana.\\n\\u00e2\\u20ac\\u00a2\\tFall: Enjoy Nuit Blanche, the Toronto International Festival of Authors, and the Toronto Christmas Market.\\n\\u00e2\\u20ac\\u00a2\\tWinter: Experience Winterlicious, the Cavalcade of Lights, and the Toronto Light Festival.\\n\\u00e2\\u20ac\\u00a2\\tSpring: Visit the Cherry Blossom Festival in High Park, Doors Open Toronto, and the Toronto Comic Arts Festival.\\n7. Transportation\\n\\u00e2\\u20ac\\u00a2\\tPublic Transit: Toronto has an extensive public transit system, including subways, buses, and streetcars. The TTC is the main provider.\\n\\u00e2\\u20ac\\u00a2\\tTaxis and Ride-Sharing: Taxis and ride-sharing services like Uber and Lyft are widely available.\\n\\u00e2\\u20ac\\u00a2\\tBike Rentals: Bike Share Toronto offers convenient bike rentals throughout the city.\\n\\u00e2\\u20ac\\u00a2\\tCar Rentals: Various car rental services are available, including Enterprise, Hertz, and Budget.\\n8. Neighborhood Guides\\n\\u00e2\\u20ac\\u00a2\\tDowntown: Explore the bustling core of Toronto with attractions like the CN Tower, Ripley's Aquarium, and the Entertainment District.\\n\\u00e2\\u20ac\\u00a2\\tWest End: Discover neighborhoods like Parkdale, Roncesvalles, and Bloor West Village, known for their unique shops and eateries.\\n\\u00e2\\u20ac\\u00a2\\tEast End: Visit Leslieville, The Beaches, and Riverdale, offering a mix of trendy cafes, parks, and waterfront views.\\n\\u00e2\\u20ac\\u00a2\\tMidtown: Experience areas like Yonge and Eglinton, Mount Pleasant, and Forest Hill, known for their shopping and dining options.\\n9. Outdoor Activities\\n\\u00e2\\u20ac\\u00a2\\tParks and Gardens: Enjoy Toronto's green spaces, including Allan Gardens, Edwards Gardens, and Trinity Bellwoods Park.\\n\\u00e2\\u20ac\\u00a2\\tBeaches: Relax at Woodbine Beach, Hanlan's Point Beach, and Sugar Beach.\\n\\u00e2\\u20ac\\u00a2\\tHiking Trails: Explore hiking trails like the Don Valley Trail, the Scarborough Bluffs, and the Humber River Trail.\\n10. Preferred Times, Days, and Seasons for Activities\\n\\u00e2\\u20ac\\u00a2\\tCN Tower:\\no\\tTime: Morning (9 AM - 11 AM) or evening (6 PM - 8 PM)\\no\\tDay: Weekdays (Monday to Friday)\\no\\tSeason: Spring, Summer, Fall\\n\\u00e2\\u20ac\\u00a2\\tRoyal Ontario Museum:\\no\\tTime: Mornings (10 AM - 12 PM)\\no\\tDay: Weekdays (Monday to Friday)\\no\\tSeason: Year-round\\n\\u00e2\\u20ac\\u00a2\\tToronto Islands:\\no\\tTime: Early afternoon (12 PM - 3 PM)\\no\\tDay: Weekends (Saturday and Sunday)\\no\\tSeason: Summer, Spring\\n\\u00e2\\u20ac\\u00a2\\tRipley's Aquarium of Canada:\\no\\tTime: Weekday afternoons (1 PM - 3 PM)\\no\\tDay: Weekdays (Monday to Friday)\\no\\tSeason: Year-round\\n\\u00e2\\u20ac\\u00a2\\tDistillery District:\\no\\tTime: Late morning (10 AM - 12 PM) or late afternoon (4 PM - 6 PM)\\no\\tDay: Weekends (Saturday and Sunday)\\no\\tSeason: Fall, Spring, Summer\\n\\u00e2\\u20ac\\u00a2\\tCasa Loma:\\no\\tTime: Morning (9 AM - 11 AM) or late afternoon (3 PM - 5 PM)\\no\\tDay: Weekdays (Monday to Friday)\\no\\tSeason: Spring, Summer, Fall\\n\\u00e2\\u20ac\\u00a2\\tArt Gallery of Ontario:\\no\\tTime: Early afternoon (1 PM - 3 PM)\\no\\tDay: Weekdays (Monday to Friday)\\no\\tSeason: Year-round\\n\\u00e2\\u20ac\\u00a2\\tToronto Zoo:\\no\\tTime: Mornings (9 AM - 11 AM)\\no\\tDay: Weekends (Saturday and Sunday)\\no\\tSeason: Summer, Spring, Fall\\n\\u00e2\\u20ac\\u00a2\\tHigh Park:\\no\\tTime: Morning (8 AM - 10 AM)\\no\\tDay: Weekends (Saturday and Sunday)\\no\\tSeason: Spring, Summer\\n11. FAQs\\n\\u00e2\\u20ac\\u00a2\\tWhen is the best time to visit Toronto?: The best time to visit is during late spring (May-June) and early fall (September-October) when the weather is pleasant and festivals are in full swing.\\n\\u00e2\\u20ac\\u00a2\\tHow to get around Toronto?: Toronto has an extensive public transit system, including subways, buses, and streetcars. Taxis and ride-sharing services are also available.\\n\\u00e2\\u20ac\\u00a2\\tWhat are some free attractions in Toronto?: Enjoy free attractions such as the Art Gallery of Ontario on Wednesday evenings, the Harbourfront Centre, and High Park.\\n\\u00e2\\u20ac\\u00a2\\tWhat should I pack for a trip to Toronto?: Pack comfortable walking shoes, weather-appropriate clothing, a reusable water bottle, and a camera.\",\n",
      "        \"Document: Comprehensive Toronto Travel Guide\\nTable of Contents\\n1.\\tIntroduction\\n2.\\tTop Attractions\\no\\tCN Tower\\no\\tRoyal Ontario Museum\\no\\tToronto Islands\\no\\tRipley's Aquarium of Canada\\no\\tDistillery District\\no\\tCasa Loma\\no\\tArt Gallery of Ontario\\no\\tToronto Zoo\\no\\tHigh Park\\n3.\\tFood and Dining\\no\\tSt. Lawrence Market\\no\\tKensington Market\\no\\tChinatown\\no\\tLittle Italy\\no\\tYorkville\\no\\tGreektown\\no\\tThe Danforth\\n4.\\tAccommodation Options\\no\\tLuxury Hotels\\no\\tMid-Range Hotels\\no\\tBudget Hotels\\no\\tVacation Rentals\\n5.\\tSample Itineraries\\no\\t3-Day Itinerary\\no\\t5-Day Itinerary\\no\\t7-Day Itinerary\\n6.\\tSeasonal Events and Festivals\\no\\tSummer\\no\\tFall\\no\\tWinter\\no\\tSpring\\n7.\\tTransportation\\no\\tPublic Transit\\no\\tTaxis and Ride-Sharing\\no\\tBike Rentals\\no\\tCar Rentals\\n8.\\tNeighborhood Guides\\no\\tDowntown\\no\\tWest End\\no\\tEast End\\no\\tMidtown\\n9.\\tOutdoor Activities\\no\\tParks and Gardens\\no\\tBeaches\\no\\tHiking Trails\\n10.\\tPreferred Times, Days, and Seasons for Activities\\n11.\\tFAQs\\n________________________________________\\n1. Introduction\\nWelcome to the comprehensive Toronto Travel Guide. This document will help you explore the best of what Toronto has to offer, including top attractions, dining options, accommodation choices, and more.\\n2. Top Attractions\\n\\u00e2\\u20ac\\u00a2\\tCN Tower: Visit the iconic CN Tower for breathtaking views of the city. Don't miss the EdgeWalk experience for an adrenaline rush.\\n\\u00e2\\u20ac\\u00a2\\tRoyal Ontario Museum: Explore the rich history and diverse cultures at one of the largest museums in North America.\\n\\u00e2\\u20ac\\u00a2\\tToronto Islands: Take a ferry ride to the Toronto Islands for a day of outdoor activities, beaches, and picnicking.\\n\\u00e2\\u20ac\\u00a2\\tRipley's Aquarium of Canada: Discover marine life at this popular family-friendly attraction located near the CN Tower.\\n\\u00e2\\u20ac\\u00a2\\tDistillery District: Stroll through this historic district known for its cobblestone streets, boutiques, galleries, and cafes.\\n\\u00e2\\u20ac\\u00a2\\tCasa Loma: Explore this historic castle, complete with gardens and secret passages.\\n\\u00e2\\u20ac\\u00a2\\tArt Gallery of Ontario: Admire a vast collection of artwork from around the world, including Canadian art.\\n\\u00e2\\u20ac\\u00a2\\tToronto Zoo: Visit the Toronto Zoo, home to over 5,000 animals from around the globe.\\n\\u00e2\\u20ac\\u00a2\\tHigh Park: Enjoy the natural beauty of High Park, featuring walking trails, a zoo, and seasonal cherry blossoms.\\n3. Food and Dining\\n\\u00e2\\u20ac\\u00a2\\tSt. Lawrence Market: Enjoy a variety of local and international foods at this historic market, known for its fresh produce and artisanal products.\\n\\u00e2\\u20ac\\u00a2\\tKensington Market: Experience diverse cuisine in this vibrant neighborhood, offering everything from street food to fine dining.\\n\\u00e2\\u20ac\\u00a2\\tChinatown: Savor authentic Asian dishes, including dim sum, sushi, and pho, in one of Toronto's most bustling areas.\\n\\u00e2\\u20ac\\u00a2\\tLittle Italy: Enjoy Italian cuisine at its finest, with numerous restaurants offering pasta, pizza, and gelato.\\n\\u00e2\\u20ac\\u00a2\\tYorkville: Indulge in upscale dining experiences in this trendy neighborhood known for its high-end restaurants and cafes.\\n\\u00e2\\u20ac\\u00a2\\tGreektown: Experience delicious Greek cuisine, with plenty of restaurants offering souvlaki, moussaka, and baklava.\\n\\u00e2\\u20ac\\u00a2\\tThe Danforth: Explore a variety of dining options along The Danforth, known for its multicultural restaurants.\\n4. Accommodation Options\\n\\u00e2\\u20ac\\u00a2\\tLuxury Hotels: The Ritz-Carlton, Four Seasons Hotel, and Shangri-La Hotel offer top-notch amenities and services.\\n\\u00e2\\u20ac\\u00a2\\tMid-Range Hotels: The Fairmont Royal York, Radisson Blu, and Marriott Downtown provide comfortable stays at reasonable prices.\\n\\u00e2\\u20ac\\u00a2\\tBudget Hotels: HI Toronto Hostel, The Rex Hotel, and The Alexandra Hotel offer affordable accommodation options.\\n\\u00e2\\u20ac\\u00a2\\tVacation Rentals: Consider booking an Airbnb for a more home-like experience, with options ranging from downtown condos to suburban houses.\\n5. Sample Itineraries\\n\\u00e2\\u20ac\\u00a2\\t3-Day Itinerary:\\no\\tDay 1: Visit the CN Tower, Ripley's Aquarium, and have dinner in the Entertainment District.\\no\\tDay 2: Explore the Royal Ontario Museum, shop in Yorkville, and enjoy dinner in Little Italy.\\no\\tDay 3: Take a ferry to Toronto Islands, relax on the beach, and return for an evening in the Distillery District.\\n\\u00e2\\u20ac\\u00a2\\t5-Day Itinerary:\\no\\tDays 1-3: Follow the 3-Day Itinerary.\\no\\tDay 4: Visit St. Lawrence Market, explore the Toronto Zoo, and dine in Chinatown.\\no\\tDay 5: Discover Kensington Market, visit Casa Loma, and end the day with a show at the Royal Alexandra Theatre.\\n\\u00e2\\u20ac\\u00a2\\t7-Day Itinerary:\\no\\tDays 1-5: Follow the 5-Day Itinerary.\\no\\tDay 6: Spend the day at High Park, visit the Art Gallery of Ontario, and dine in Greektown.\\no\\tDay 7: Explore the Distillery District, enjoy a boat tour on Lake Ontario, and finish with dinner in The Danforth.\\n6. Seasonal Events and Festivals\\n\\u00e2\\u20ac\\u00a2\\tSummer: Attend the Toronto International Film Festival (TIFF), the Canadian National Exhibition (CNE), and Caribana.\\n\\u00e2\\u20ac\\u00a2\\tFall: Enjoy Nuit Blanche, the Toronto International Festival of Authors, and the Toronto Christmas Market.\\n\\u00e2\\u20ac\\u00a2\\tWinter: Experience Winterlicious, the Cavalcade of Lights, and the Toronto Light Festival.\\n\\u00e2\\u20ac\\u00a2\\tSpring: Visit the Cherry Blossom Festival in High Park, Doors Open Toronto, and the Toronto Comic Arts Festival.\\n7. Transportation\\n\\u00e2\\u20ac\\u00a2\\tPublic Transit: Toronto has an extensive public transit system, including subways, buses, and streetcars. The TTC is the main provider.\\n\\u00e2\\u20ac\\u00a2\\tTaxis and Ride-Sharing: Taxis and ride-sharing services like Uber and Lyft are widely available.\\n\\u00e2\\u20ac\\u00a2\\tBike Rentals: Bike Share Toronto offers convenient bike rentals throughout the city.\\n\\u00e2\\u20ac\\u00a2\\tCar Rentals: Various car rental services are available, including Enterprise, Hertz, and Budget.\\n8. Neighborhood Guides\\n\\u00e2\\u20ac\\u00a2\\tDowntown: Explore the bustling core of Toronto with attractions like the CN Tower, Ripley's Aquarium, and the Entertainment District.\\n\\u00e2\\u20ac\\u00a2\\tWest End: Discover neighborhoods like Parkdale, Roncesvalles, and Bloor West Village, known for their unique shops and eateries.\\n\\u00e2\\u20ac\\u00a2\\tEast End: Visit Leslieville, The Beaches, and Riverdale, offering a mix of trendy cafes, parks, and waterfront views.\\n\\u00e2\\u20ac\\u00a2\\tMidtown: Experience areas like Yonge and Eglinton, Mount Pleasant, and Forest Hill, known for their shopping and dining options.\\n9. Outdoor Activities\\n\\u00e2\\u20ac\\u00a2\\tParks and Gardens: Enjoy Toronto's green spaces, including Allan Gardens, Edwards Gardens, and Trinity Bellwoods Park.\\n\\u00e2\\u20ac\\u00a2\\tBeaches: Relax at Woodbine Beach, Hanlan's Point Beach, and Sugar Beach.\\n\\u00e2\\u20ac\\u00a2\\tHiking Trails: Explore hiking trails like the Don Valley Trail, the Scarborough Bluffs, and the Humber River Trail.\\n10. Preferred Times, Days, and Seasons for Activities\\n\\u00e2\\u20ac\\u00a2\\tCN Tower:\\no\\tTime: Morning (9 AM - 11 AM) or evening (6 PM - 8 PM)\\no\\tDay: Weekdays (Monday to Friday)\\no\\tSeason: Spring, Summer, Fall\\n\\u00e2\\u20ac\\u00a2\\tRoyal Ontario Museum:\\no\\tTime: Mornings (10 AM - 12 PM)\\no\\tDay: Weekdays (Monday to Friday)\\no\\tSeason: Year-round\\n\\u00e2\\u20ac\\u00a2\\tToronto Islands:\\no\\tTime: Early afternoon (12 PM - 3 PM)\\no\\tDay: Weekends (Saturday and Sunday)\\no\\tSeason: Summer, Spring\\n\\u00e2\\u20ac\\u00a2\\tRipley's Aquarium of Canada:\\no\\tTime: Weekday afternoons (1 PM - 3 PM)\\no\\tDay: Weekdays (Monday to Friday)\\no\\tSeason: Year-round\\n\\u00e2\\u20ac\\u00a2\\tDistillery District:\\no\\tTime: Late morning (10 AM - 12 PM) or late afternoon (4 PM - 6 PM)\\no\\tDay: Weekends (Saturday and Sunday)\\no\\tSeason: Fall, Spring, Summer\\n\\u00e2\\u20ac\\u00a2\\tCasa Loma:\\no\\tTime: Morning (9 AM - 11 AM) or late afternoon (3 PM - 5 PM)\\no\\tDay: Weekdays (Monday to Friday)\\no\\tSeason: Spring, Summer, Fall\\n\\u00e2\\u20ac\\u00a2\\tArt Gallery of Ontario:\\no\\tTime: Early afternoon (1 PM - 3 PM)\\no\\tDay: Weekdays (Monday to Friday)\\no\\tSeason: Year-round\\n\\u00e2\\u20ac\\u00a2\\tToronto Zoo:\\no\\tTime: Mornings (9 AM - 11 AM)\\no\\tDay: Weekends (Saturday and Sunday)\\no\\tSeason: Summer, Spring, Fall\\n\\u00e2\\u20ac\\u00a2\\tHigh Park:\\no\\tTime: Morning (8 AM - 10 AM)\\no\\tDay: Weekends (Saturday and Sunday)\\no\\tSeason: Spring, Summer\\n11. FAQs\\n\\u00e2\\u20ac\\u00a2\\tWhen is the best time to visit Toronto?: The best time to visit is during late spring (May-June) and early fall (September-October) when the weather is pleasant and festivals are in full swing.\\n\\u00e2\\u20ac\\u00a2\\tHow to get around Toronto?: Toronto has an extensive public transit system, including subways, buses, and streetcars. Taxis and ride-sharing services are also available.\\n\\u00e2\\u20ac\\u00a2\\tWhat are some free attractions in Toronto?: Enjoy free attractions such as the Art Gallery of Ontario on Wednesday evenings, the Harbourfront Centre, and High Park.\\n\\u00e2\\u20ac\\u00a2\\tWhat should I pack for a trip to Toronto?: Pack comfortable walking shoes, weather-appropriate clothing, a reusable water bottle, and a camera.\",\n",
      "        \"Document: Comprehensive Toronto Travel Guide\\nTable of Contents\\n1.\\tIntroduction\\n2.\\tTop Attractions\\no\\tCN Tower\\no\\tRoyal Ontario Museum\\no\\tToronto Islands\\no\\tRipley's Aquarium of Canada\\no\\tDistillery District\\no\\tCasa Loma\\no\\tArt Gallery of Ontario\\no\\tToronto Zoo\\no\\tHigh Park\\n3.\\tFood and Dining\\no\\tSt. Lawrence Market\\no\\tKensington Market\\no\\tChinatown\\no\\tLittle Italy\\no\\tYorkville\\no\\tGreektown\\no\\tThe Danforth\\n4.\\tAccommodation Options\\no\\tLuxury Hotels\\no\\tMid-Range Hotels\\no\\tBudget Hotels\\no\\tVacation Rentals\\n5.\\tSample Itineraries\\no\\t3-Day Itinerary\\no\\t5-Day Itinerary\\no\\t7-Day Itinerary\\n6.\\tSeasonal Events and Festivals\\no\\tSummer\\no\\tFall\\no\\tWinter\\no\\tSpring\\n7.\\tTransportation\\no\\tPublic Transit\\no\\tTaxis and Ride-Sharing\\no\\tBike Rentals\\no\\tCar Rentals\\n8.\\tNeighborhood Guides\\no\\tDowntown\\no\\tWest End\\no\\tEast End\\no\\tMidtown\\n9.\\tOutdoor Activities\\no\\tParks and Gardens\\no\\tBeaches\\no\\tHiking Trails\\n10.\\tPreferred Times, Days, and Seasons for Activities\\n11.\\tFAQs\\n________________________________________\\n1. Introduction\\nWelcome to the comprehensive Toronto Travel Guide. This document will help you explore the best of what Toronto has to offer, including top attractions, dining options, accommodation choices, and more.\\n2. Top Attractions\\n\\u00e2\\u20ac\\u00a2\\tCN Tower: Visit the iconic CN Tower for breathtaking views of the city. Don't miss the EdgeWalk experience for an adrenaline rush.\\n\\u00e2\\u20ac\\u00a2\\tRoyal Ontario Museum: Explore the rich history and diverse cultures at one of the largest museums in North America.\\n\\u00e2\\u20ac\\u00a2\\tToronto Islands: Take a ferry ride to the Toronto Islands for a day of outdoor activities, beaches, and picnicking.\\n\\u00e2\\u20ac\\u00a2\\tRipley's Aquarium of Canada: Discover marine life at this popular family-friendly attraction located near the CN Tower.\\n\\u00e2\\u20ac\\u00a2\\tDistillery District: Stroll through this historic district known for its cobblestone streets, boutiques, galleries, and cafes.\\n\\u00e2\\u20ac\\u00a2\\tCasa Loma: Explore this historic castle, complete with gardens and secret passages.\\n\\u00e2\\u20ac\\u00a2\\tArt Gallery of Ontario: Admire a vast collection of artwork from around the world, including Canadian art.\\n\\u00e2\\u20ac\\u00a2\\tToronto Zoo: Visit the Toronto Zoo, home to over 5,000 animals from around the globe.\\n\\u00e2\\u20ac\\u00a2\\tHigh Park: Enjoy the natural beauty of High Park, featuring walking trails, a zoo, and seasonal cherry blossoms.\\n3. Food and Dining\\n\\u00e2\\u20ac\\u00a2\\tSt. Lawrence Market: Enjoy a variety of local and international foods at this historic market, known for its fresh produce and artisanal products.\\n\\u00e2\\u20ac\\u00a2\\tKensington Market: Experience diverse cuisine in this vibrant neighborhood, offering everything from street food to fine dining.\\n\\u00e2\\u20ac\\u00a2\\tChinatown: Savor authentic Asian dishes, including dim sum, sushi, and pho, in one of Toronto's most bustling areas.\\n\\u00e2\\u20ac\\u00a2\\tLittle Italy: Enjoy Italian cuisine at its finest, with numerous restaurants offering pasta, pizza, and gelato.\\n\\u00e2\\u20ac\\u00a2\\tYorkville: Indulge in upscale dining experiences in this trendy neighborhood known for its high-end restaurants and cafes.\\n\\u00e2\\u20ac\\u00a2\\tGreektown: Experience delicious Greek cuisine, with plenty of restaurants offering souvlaki, moussaka, and baklava.\\n\\u00e2\\u20ac\\u00a2\\tThe Danforth: Explore a variety of dining options along The Danforth, known for its multicultural restaurants.\\n4. Accommodation Options\\n\\u00e2\\u20ac\\u00a2\\tLuxury Hotels: The Ritz-Carlton, Four Seasons Hotel, and Shangri-La Hotel offer top-notch amenities and services.\\n\\u00e2\\u20ac\\u00a2\\tMid-Range Hotels: The Fairmont Royal York, Radisson Blu, and Marriott Downtown provide comfortable stays at reasonable prices.\\n\\u00e2\\u20ac\\u00a2\\tBudget Hotels: HI Toronto Hostel, The Rex Hotel, and The Alexandra Hotel offer affordable accommodation options.\\n\\u00e2\\u20ac\\u00a2\\tVacation Rentals: Consider booking an Airbnb for a more home-like experience, with options ranging from downtown condos to suburban houses.\\n5. Sample Itineraries\\n\\u00e2\\u20ac\\u00a2\\t3-Day Itinerary:\\no\\tDay 1: Visit the CN Tower, Ripley's Aquarium, and have dinner in the Entertainment District.\\no\\tDay 2: Explore the Royal Ontario Museum, shop in Yorkville, and enjoy dinner in Little Italy.\\no\\tDay 3: Take a ferry to Toronto Islands, relax on the beach, and return for an evening in the Distillery District.\\n\\u00e2\\u20ac\\u00a2\\t5-Day Itinerary:\\no\\tDays 1-3: Follow the 3-Day Itinerary.\\no\\tDay 4: Visit St. Lawrence Market, explore the Toronto Zoo, and dine in Chinatown.\\no\\tDay 5: Discover Kensington Market, visit Casa Loma, and end the day with a show at the Royal Alexandra Theatre.\\n\\u00e2\\u20ac\\u00a2\\t7-Day Itinerary:\\no\\tDays 1-5: Follow the 5-Day Itinerary.\\no\\tDay 6: Spend the day at High Park, visit the Art Gallery of Ontario, and dine in Greektown.\\no\\tDay 7: Explore the Distillery District, enjoy a boat tour on Lake Ontario, and finish with dinner in The Danforth.\\n6. Seasonal Events and Festivals\\n\\u00e2\\u20ac\\u00a2\\tSummer: Attend the Toronto International Film Festival (TIFF), the Canadian National Exhibition (CNE), and Caribana.\\n\\u00e2\\u20ac\\u00a2\\tFall: Enjoy Nuit Blanche, the Toronto International Festival of Authors, and the Toronto Christmas Market.\\n\\u00e2\\u20ac\\u00a2\\tWinter: Experience Winterlicious, the Cavalcade of Lights, and the Toronto Light Festival.\\n\\u00e2\\u20ac\\u00a2\\tSpring: Visit the Cherry Blossom Festival in High Park, Doors Open Toronto, and the Toronto Comic Arts Festival.\\n7. Transportation\\n\\u00e2\\u20ac\\u00a2\\tPublic Transit: Toronto has an extensive public transit system, including subways, buses, and streetcars. The TTC is the main provider.\\n\\u00e2\\u20ac\\u00a2\\tTaxis and Ride-Sharing: Taxis and ride-sharing services like Uber and Lyft are widely available.\\n\\u00e2\\u20ac\\u00a2\\tBike Rentals: Bike Share Toronto offers convenient bike rentals throughout the city.\\n\\u00e2\\u20ac\\u00a2\\tCar Rentals: Various car rental services are available, including Enterprise, Hertz, and Budget.\\n8. Neighborhood Guides\\n\\u00e2\\u20ac\\u00a2\\tDowntown: Explore the bustling core of Toronto with attractions like the CN Tower, Ripley's Aquarium, and the Entertainment District.\\n\\u00e2\\u20ac\\u00a2\\tWest End: Discover neighborhoods like Parkdale, Roncesvalles, and Bloor West Village, known for their unique shops and eateries.\\n\\u00e2\\u20ac\\u00a2\\tEast End: Visit Leslieville, The Beaches, and Riverdale, offering a mix of trendy cafes, parks, and waterfront views.\\n\\u00e2\\u20ac\\u00a2\\tMidtown: Experience areas like Yonge and Eglinton, Mount Pleasant, and Forest Hill, known for their shopping and dining options.\\n9. Outdoor Activities\\n\\u00e2\\u20ac\\u00a2\\tParks and Gardens: Enjoy Toronto's green spaces, including Allan Gardens, Edwards Gardens, and Trinity Bellwoods Park.\\n\\u00e2\\u20ac\\u00a2\\tBeaches: Relax at Woodbine Beach, Hanlan's Point Beach, and Sugar Beach.\\n\\u00e2\\u20ac\\u00a2\\tHiking Trails: Explore hiking trails like the Don Valley Trail, the Scarborough Bluffs, and the Humber River Trail.\\n10. Preferred Times, Days, and Seasons for Activities\\n\\u00e2\\u20ac\\u00a2\\tCN Tower:\\no\\tTime: Morning (9 AM - 11 AM) or evening (6 PM - 8 PM)\\no\\tDay: Weekdays (Monday to Friday)\\no\\tSeason: Spring, Summer, Fall\\n\\u00e2\\u20ac\\u00a2\\tRoyal Ontario Museum:\\no\\tTime: Mornings (10 AM - 12 PM)\\no\\tDay: Weekdays (Monday to Friday)\\no\\tSeason: Year-round\\n\\u00e2\\u20ac\\u00a2\\tToronto Islands:\\no\\tTime: Early afternoon (12 PM - 3 PM)\\no\\tDay: Weekends (Saturday and Sunday)\\no\\tSeason: Summer, Spring\\n\\u00e2\\u20ac\\u00a2\\tRipley's Aquarium of Canada:\\no\\tTime: Weekday afternoons (1 PM - 3 PM)\\no\\tDay: Weekdays (Monday to Friday)\\no\\tSeason: Year-round\\n\\u00e2\\u20ac\\u00a2\\tDistillery District:\\no\\tTime: Late morning (10 AM - 12 PM) or late afternoon (4 PM - 6 PM)\\no\\tDay: Weekends (Saturday and Sunday)\\no\\tSeason: Fall, Spring, Summer\\n\\u00e2\\u20ac\\u00a2\\tCasa Loma:\\no\\tTime: Morning (9 AM - 11 AM) or late afternoon (3 PM - 5 PM)\\no\\tDay: Weekdays (Monday to Friday)\\no\\tSeason: Spring, Summer, Fall\\n\\u00e2\\u20ac\\u00a2\\tArt Gallery of Ontario:\\no\\tTime: Early afternoon (1 PM - 3 PM)\\no\\tDay: Weekdays (Monday to Friday)\\no\\tSeason: Year-round\\n\\u00e2\\u20ac\\u00a2\\tToronto Zoo:\\no\\tTime: Mornings (9 AM - 11 AM)\\no\\tDay: Weekends (Saturday and Sunday)\\no\\tSeason: Summer, Spring, Fall\\n\\u00e2\\u20ac\\u00a2\\tHigh Park:\\no\\tTime: Morning (8 AM - 10 AM)\\no\\tDay: Weekends (Saturday and Sunday)\\no\\tSeason: Spring, Summer\\n11. FAQs\\n\\u00e2\\u20ac\\u00a2\\tWhen is the best time to visit Toronto?: The best time to visit is during late spring (May-June) and early fall (September-October) when the weather is pleasant and festivals are in full swing.\\n\\u00e2\\u20ac\\u00a2\\tHow to get around Toronto?: Toronto has an extensive public transit system, including subways, buses, and streetcars. Taxis and ride-sharing services are also available.\\n\\u00e2\\u20ac\\u00a2\\tWhat are some free attractions in Toronto?: Enjoy free attractions such as the Art Gallery of Ontario on Wednesday evenings, the Harbourfront Centre, and High Park.\\n\\u00e2\\u20ac\\u00a2\\tWhat should I pack for a trip to Toronto?: Pack comfortable walking shoes, weather-appropriate clothing, a reusable water bottle, and a camera.\",\n",
      "        \"Document: Comprehensive Toronto Travel Guide\\nTable of Contents\\n1.\\tIntroduction\\n2.\\tTop Attractions\\no\\tCN Tower\\no\\tRoyal Ontario Museum\\no\\tToronto Islands\\no\\tRipley's Aquarium of Canada\\no\\tDistillery District\\no\\tCasa Loma\\no\\tArt Gallery of Ontario\\no\\tToronto Zoo\\no\\tHigh Park\\n3.\\tFood and Dining\\no\\tSt. Lawrence Market\\no\\tKensington Market\\no\\tChinatown\\no\\tLittle Italy\\no\\tYorkville\\no\\tGreektown\\no\\tThe Danforth\\n4.\\tAccommodation Options\\no\\tLuxury Hotels\\no\\tMid-Range Hotels\\no\\tBudget Hotels\\no\\tVacation Rentals\\n5.\\tSample Itineraries\\no\\t3-Day Itinerary\\no\\t5-Day Itinerary\\no\\t7-Day Itinerary\\n6.\\tSeasonal Events and Festivals\\no\\tSummer\\no\\tFall\\no\\tWinter\\no\\tSpring\\n7.\\tTransportation\\no\\tPublic Transit\\no\\tTaxis and Ride-Sharing\\no\\tBike Rentals\\no\\tCar Rentals\\n8.\\tNeighborhood Guides\\no\\tDowntown\\no\\tWest End\\no\\tEast End\\no\\tMidtown\\n9.\\tOutdoor Activities\\no\\tParks and Gardens\\no\\tBeaches\\no\\tHiking Trails\\n10.\\tPreferred Times, Days, and Seasons for Activities\\n11.\\tFAQs\\n________________________________________\\n1. Introduction\\nWelcome to the comprehensive Toronto Travel Guide. This document will help you explore the best of what Toronto has to offer, including top attractions, dining options, accommodation choices, and more.\\n2. Top Attractions\\n\\u00e2\\u20ac\\u00a2\\tCN Tower: Visit the iconic CN Tower for breathtaking views of the city. Don't miss the EdgeWalk experience for an adrenaline rush.\\n\\u00e2\\u20ac\\u00a2\\tRoyal Ontario Museum: Explore the rich history and diverse cultures at one of the largest museums in North America.\\n\\u00e2\\u20ac\\u00a2\\tToronto Islands: Take a ferry ride to the Toronto Islands for a day of outdoor activities, beaches, and picnicking.\\n\\u00e2\\u20ac\\u00a2\\tRipley's Aquarium of Canada: Discover marine life at this popular family-friendly attraction located near the CN Tower.\\n\\u00e2\\u20ac\\u00a2\\tDistillery District: Stroll through this historic district known for its cobblestone streets, boutiques, galleries, and cafes.\\n\\u00e2\\u20ac\\u00a2\\tCasa Loma: Explore this historic castle, complete with gardens and secret passages.\\n\\u00e2\\u20ac\\u00a2\\tArt Gallery of Ontario: Admire a vast collection of artwork from around the world, including Canadian art.\\n\\u00e2\\u20ac\\u00a2\\tToronto Zoo: Visit the Toronto Zoo, home to over 5,000 animals from around the globe.\\n\\u00e2\\u20ac\\u00a2\\tHigh Park: Enjoy the natural beauty of High Park, featuring walking trails, a zoo, and seasonal cherry blossoms.\\n3. Food and Dining\\n\\u00e2\\u20ac\\u00a2\\tSt. Lawrence Market: Enjoy a variety of local and international foods at this historic market, known for its fresh produce and artisanal products.\\n\\u00e2\\u20ac\\u00a2\\tKensington Market: Experience diverse cuisine in this vibrant neighborhood, offering everything from street food to fine dining.\\n\\u00e2\\u20ac\\u00a2\\tChinatown: Savor authentic Asian dishes, including dim sum, sushi, and pho, in one of Toronto's most bustling areas.\\n\\u00e2\\u20ac\\u00a2\\tLittle Italy: Enjoy Italian cuisine at its finest, with numerous restaurants offering pasta, pizza, and gelato.\\n\\u00e2\\u20ac\\u00a2\\tYorkville: Indulge in upscale dining experiences in this trendy neighborhood known for its high-end restaurants and cafes.\\n\\u00e2\\u20ac\\u00a2\\tGreektown: Experience delicious Greek cuisine, with plenty of restaurants offering souvlaki, moussaka, and baklava.\\n\\u00e2\\u20ac\\u00a2\\tThe Danforth: Explore a variety of dining options along The Danforth, known for its multicultural restaurants.\\n4. Accommodation Options\\n\\u00e2\\u20ac\\u00a2\\tLuxury Hotels: The Ritz-Carlton, Four Seasons Hotel, and Shangri-La Hotel offer top-notch amenities and services.\\n\\u00e2\\u20ac\\u00a2\\tMid-Range Hotels: The Fairmont Royal York, Radisson Blu, and Marriott Downtown provide comfortable stays at reasonable prices.\\n\\u00e2\\u20ac\\u00a2\\tBudget Hotels: HI Toronto Hostel, The Rex Hotel, and The Alexandra Hotel offer affordable accommodation options.\\n\\u00e2\\u20ac\\u00a2\\tVacation Rentals: Consider booking an Airbnb for a more home-like experience, with options ranging from downtown condos to suburban houses.\\n5. Sample Itineraries\\n\\u00e2\\u20ac\\u00a2\\t3-Day Itinerary:\\no\\tDay 1: Visit the CN Tower, Ripley's Aquarium, and have dinner in the Entertainment District.\\no\\tDay 2: Explore the Royal Ontario Museum, shop in Yorkville, and enjoy dinner in Little Italy.\\no\\tDay 3: Take a ferry to Toronto Islands, relax on the beach, and return for an evening in the Distillery District.\\n\\u00e2\\u20ac\\u00a2\\t5-Day Itinerary:\\no\\tDays 1-3: Follow the 3-Day Itinerary.\\no\\tDay 4: Visit St. Lawrence Market, explore the Toronto Zoo, and dine in Chinatown.\\no\\tDay 5: Discover Kensington Market, visit Casa Loma, and end the day with a show at the Royal Alexandra Theatre.\\n\\u00e2\\u20ac\\u00a2\\t7-Day Itinerary:\\no\\tDays 1-5: Follow the 5-Day Itinerary.\\no\\tDay 6: Spend the day at High Park, visit the Art Gallery of Ontario, and dine in Greektown.\\no\\tDay 7: Explore the Distillery District, enjoy a boat tour on Lake Ontario, and finish with dinner in The Danforth.\\n6. Seasonal Events and Festivals\\n\\u00e2\\u20ac\\u00a2\\tSummer: Attend the Toronto International Film Festival (TIFF), the Canadian National Exhibition (CNE), and Caribana.\\n\\u00e2\\u20ac\\u00a2\\tFall: Enjoy Nuit Blanche, the Toronto International Festival of Authors, and the Toronto Christmas Market.\\n\\u00e2\\u20ac\\u00a2\\tWinter: Experience Winterlicious, the Cavalcade of Lights, and the Toronto Light Festival.\\n\\u00e2\\u20ac\\u00a2\\tSpring: Visit the Cherry Blossom Festival in High Park, Doors Open Toronto, and the Toronto Comic Arts Festival.\\n7. Transportation\\n\\u00e2\\u20ac\\u00a2\\tPublic Transit: Toronto has an extensive public transit system, including subways, buses, and streetcars. The TTC is the main provider.\\n\\u00e2\\u20ac\\u00a2\\tTaxis and Ride-Sharing: Taxis and ride-sharing services like Uber and Lyft are widely available.\\n\\u00e2\\u20ac\\u00a2\\tBike Rentals: Bike Share Toronto offers convenient bike rentals throughout the city.\\n\\u00e2\\u20ac\\u00a2\\tCar Rentals: Various car rental services are available, including Enterprise, Hertz, and Budget.\\n8. Neighborhood Guides\\n\\u00e2\\u20ac\\u00a2\\tDowntown: Explore the bustling core of Toronto with attractions like the CN Tower, Ripley's Aquarium, and the Entertainment District.\\n\\u00e2\\u20ac\\u00a2\\tWest End: Discover neighborhoods like Parkdale, Roncesvalles, and Bloor West Village, known for their unique shops and eateries.\\n\\u00e2\\u20ac\\u00a2\\tEast End: Visit Leslieville, The Beaches, and Riverdale, offering a mix of trendy cafes, parks, and waterfront views.\\n\\u00e2\\u20ac\\u00a2\\tMidtown: Experience areas like Yonge and Eglinton, Mount Pleasant, and Forest Hill, known for their shopping and dining options.\\n9. Outdoor Activities\\n\\u00e2\\u20ac\\u00a2\\tParks and Gardens: Enjoy Toronto's green spaces, including Allan Gardens, Edwards Gardens, and Trinity Bellwoods Park.\\n\\u00e2\\u20ac\\u00a2\\tBeaches: Relax at Woodbine Beach, Hanlan's Point Beach, and Sugar Beach.\\n\\u00e2\\u20ac\\u00a2\\tHiking Trails: Explore hiking trails like the Don Valley Trail, the Scarborough Bluffs, and the Humber River Trail.\\n10. Preferred Times, Days, and Seasons for Activities\\n\\u00e2\\u20ac\\u00a2\\tCN Tower:\\no\\tTime: Morning (9 AM - 11 AM) or evening (6 PM - 8 PM)\\no\\tDay: Weekdays (Monday to Friday)\\no\\tSeason: Spring, Summer, Fall\\n\\u00e2\\u20ac\\u00a2\\tRoyal Ontario Museum:\\no\\tTime: Mornings (10 AM - 12 PM)\\no\\tDay: Weekdays (Monday to Friday)\\no\\tSeason: Year-round\\n\\u00e2\\u20ac\\u00a2\\tToronto Islands:\\no\\tTime: Early afternoon (12 PM - 3 PM)\\no\\tDay: Weekends (Saturday and Sunday)\\no\\tSeason: Summer, Spring\\n\\u00e2\\u20ac\\u00a2\\tRipley's Aquarium of Canada:\\no\\tTime: Weekday afternoons (1 PM - 3 PM)\\no\\tDay: Weekdays (Monday to Friday)\\no\\tSeason: Year-round\\n\\u00e2\\u20ac\\u00a2\\tDistillery District:\\no\\tTime: Late morning (10 AM - 12 PM) or late afternoon (4 PM - 6 PM)\\no\\tDay: Weekends (Saturday and Sunday)\\no\\tSeason: Fall, Spring, Summer\\n\\u00e2\\u20ac\\u00a2\\tCasa Loma:\\no\\tTime: Morning (9 AM - 11 AM) or late afternoon (3 PM - 5 PM)\\no\\tDay: Weekdays (Monday to Friday)\\no\\tSeason: Spring, Summer, Fall\\n\\u00e2\\u20ac\\u00a2\\tArt Gallery of Ontario:\\no\\tTime: Early afternoon (1 PM - 3 PM)\\no\\tDay: Weekdays (Monday to Friday)\\no\\tSeason: Year-round\\n\\u00e2\\u20ac\\u00a2\\tToronto Zoo:\\no\\tTime: Mornings (9 AM - 11 AM)\\no\\tDay: Weekends (Saturday and Sunday)\\no\\tSeason: Summer, Spring, Fall\\n\\u00e2\\u20ac\\u00a2\\tHigh Park:\\no\\tTime: Morning (8 AM - 10 AM)\\no\\tDay: Weekends (Saturday and Sunday)\\no\\tSeason: Spring, Summer\\n11. FAQs\\n\\u00e2\\u20ac\\u00a2\\tWhen is the best time to visit Toronto?: The best time to visit is during late spring (May-June) and early fall (September-October) when the weather is pleasant and festivals are in full swing.\\n\\u00e2\\u20ac\\u00a2\\tHow to get around Toronto?: Toronto has an extensive public transit system, including subways, buses, and streetcars. Taxis and ride-sharing services are also available.\\n\\u00e2\\u20ac\\u00a2\\tWhat are some free attractions in Toronto?: Enjoy free attractions such as the Art Gallery of Ontario on Wednesday evenings, the Harbourfront Centre, and High Park.\\n\\u00e2\\u20ac\\u00a2\\tWhat should I pack for a trip to Toronto?: Pack comfortable walking shoes, weather-appropriate clothing, a reusable water bottle, and a camera.\"\n",
      "    ],\n",
      "    \"generated_answers\": [\n",
      "        \"Some of the best places to visit in Toronto include the CN Tower, Royal Ontario Museum, Toronto Islands, Ripley's Aquarium of Canada, and the Distillery District.\",\n",
      "        \"Some good restaurants in Toronto include St. Lawrence Market, Kensington Market, Chinatown, Little Italy, Yorkville, Greektown, and The Danforth.\",\n",
      "        \"The best time to visit Toronto is during late spring (May-June) and early fall (September-October) when the weather is pleasant and festivals are in full swing.\",\n",
      "        \"Yes, you can attend the Toronto International Film Festival (TIFF), the Canadian National Exhibition (CNE), and Caribana during the summer in Toronto.\",\n",
      "        \"You can find affordable accommodation in Toronto at budget hotels like HI Toronto Hostel, The Rex Hotel, and The Alexandra Hotel.\"\n",
      "    ],\n",
      "    \"context_relevance_scores\": [\n",
      "        0.2722216541941082,\n",
      "        0.06539651144388514,\n",
      "        0.36628252812040546,\n",
      "        0.08463996755913449,\n",
      "        0.06560117653352551\n",
      "    ],\n",
      "    \"answer_relevance_scores\": {\n",
      "        \"rouge1\": [\n",
      "            0.6875,\n",
      "            0.2711864406779661,\n",
      "            0.5428571428571429,\n",
      "            0.456140350877193,\n",
      "            0.39999999999999997\n",
      "        ],\n",
      "        \"rougeL\": [\n",
      "            0.5625,\n",
      "            0.23728813559322032,\n",
      "            0.5142857142857143,\n",
      "            0.3508771929824561,\n",
      "            0.29090909090909084\n",
      "        ]\n",
      "    }\n",
      "}\n",
      "Evaluation data has been generated and saved to evaluation_data.json\n"
     ]
    }
   ],
   "source": [
    "evaluation_results = {\n",
    "    \"questions\": queries,\n",
    "    \"retrieved_contexts\": retrieved_contexts,\n",
    "    \"generated_answers\": generated_answers,\n",
    "    \"context_relevance_scores\": context_relevance_scores,\n",
    "    \"answer_relevance_scores\": answer_relevance_scores\n",
    "}\n",
    "\n",
    "print(json.dumps(evaluation_results, indent=4))\n",
    "\n",
    "with open('evaluation_data.json', 'w') as f:\n",
    "    json.dump(evaluation_results, f, indent=4)\n",
    "\n",
    "print(\"Evaluation data has been generated and saved to evaluation_data.json\")"
   ]
  }
 ],
 "metadata": {
  "kernelspec": {
   "display_name": "Python 3",
   "language": "python",
   "name": "python3"
  },
  "language_info": {
   "codemirror_mode": {
    "name": "ipython",
    "version": 3
   },
   "file_extension": ".py",
   "mimetype": "text/x-python",
   "name": "python",
   "nbconvert_exporter": "python",
   "pygments_lexer": "ipython3",
   "version": "3.11.5"
  }
 },
 "nbformat": 4,
 "nbformat_minor": 2
}
